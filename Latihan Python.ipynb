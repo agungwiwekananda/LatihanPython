{
 "cells": [
  {
   "cell_type": "code",
   "execution_count": 19,
   "id": "75743959-674f-41fb-9249-e47a754aee9a",
   "metadata": {},
   "outputs": [
    {
     "name": "stdout",
     "output_type": "stream",
     "text": [
      "{'Count': '5', 'RetMax': '5', 'RetStart': '0', 'IdList': ['2127886546', '2105651004', '1585114130', '1585114076', '1585113965'], 'TranslationSet': [{'From': 'Sansevieria conspicua', 'To': '\"Sansevieria conspicua\"[Organism] OR Sansevieria conspicua[All Fields]'}], 'TranslationStack': [{'Term': '\"Sansevieria conspicua\"[Organism]', 'Field': 'Organism', 'Count': '15', 'Explode': 'Y'}, {'Term': 'Sansevieria conspicua[All Fields]', 'Field': 'All Fields', 'Count': '15', 'Explode': 'N'}, 'OR', 'GROUP', {'Term': 'chloroplast[All Fields]', 'Field': 'All Fields', 'Count': '1988480', 'Explode': 'N'}, 'AND', {'Term': 'psbA[All Fields]', 'Field': 'All Fields', 'Count': '219051', 'Explode': 'N'}, 'AND', 'GROUP'], 'QueryTranslation': '(\"Sansevieria conspicua\"[Organism] OR Sansevieria conspicua[All Fields]) AND chloroplast[All Fields] AND psbA[All Fields]'}\n"
     ]
    }
   ],
   "source": [
    "from Bio import Entrez\n",
    "Entrez.email = \"localuser@localhost.localdomain\" #Mandatory! Can be replaced with your personal email.\n",
    "\n",
    "#creating handle\n",
    "handle = Entrez.esearch(db=\"nuccore\", term=\"Sansevieria conspicua chloroplast psbA\")\n",
    "record = Entrez.read(handle)\n",
    "print(record)\n",
    "handle.close() #always close your handle after you finish"
   ]
  },
  {
   "cell_type": "code",
   "execution_count": 24,
   "id": "15b525bd-5588-493f-9021-499f74bf414f",
   "metadata": {},
   "outputs": [
    {
     "name": "stdout",
     "output_type": "stream",
     "text": [
      ">MK261015.1 Sansevieria conspicua voucher TK1_G1_MRC psbA-trnH intergenic spacer, partial sequence; chloroplast\n",
      "GATTTCCGTCTTAATGCATTAAGAATCGTTGAAGGAGTCATACCCAATATCTTGTTTTTATAAGATATTG\n",
      "GGTATAGCTCTCTCCCGCCAATGAATGATAAGTATCTATTTTTTTTCCAAATTAATTAACGACGAGATTT\n",
      "ATTATCGTTTCTCGCATGTCTTGCGAAAGTCAGAGTAGGTGCGAATTCTCCCAATTTGTGACCTACCATA\n",
      "TGATCTGTTATATAAATAGGTAAATGTTCTTTTCCATTATGAACAGCGATTGTATGGCCAATCATTTTGG\n",
      "GTATAATAGTAGATGCCCGAGACCAAGTTACTATTATTTCTTTCTCCTCCCTCATGTTGAGTTTTTCCAT\n",
      "TTTTCTCGATAAATGATTAGCTACAAAAGGATTTTTTTTTAGTGAACGTGTCACAGCCGATTACTCCTTT\n",
      "TTTTTACATTTTAAAGATTGGCATTCTATGTCCAATAGAATATCTCGATCTAAGTATGAAGGTAAGAATA\n",
      "\n",
      "\n"
     ]
    }
   ],
   "source": [
    "efetch_handle = Entrez.efetch(db=\"nuccore\", id=\"1585114130\", rettype=\"fasta\", retmode=\"text\")\n",
    "gbrecord = efetch_handle.read()\n",
    "print(gbrecord)"
   ]
  },
  {
   "cell_type": "code",
   "execution_count": 16,
   "id": "41bbda4d-58d8-4ef1-ba3d-82225cc80a26",
   "metadata": {},
   "outputs": [
    {
     "name": "stdout",
     "output_type": "stream",
     "text": [
      "GB Download\n"
     ]
    }
   ],
   "source": [
    "import os\n",
    "\n",
    "#creating EFetch handle\n",
    "filename = \"Sansevieria conspicua psbA.gbk\" \n",
    "\n",
    "#creating EFetch handle\n",
    "if not os.path.isfile(filename):\n",
    "    # Downloading file...\n",
    "    efetch_handle = Entrez.efetch(db=\"nuccore\", id=\"1585114130\", rettype=\"gb\", retmode=\"text\")\n",
    "    output_file_handle = open(filename, \"w\")\n",
    "    output_file_handle.write(efetch_handle.read())\n",
    "    output_file_handle.close()\n",
    "    efetch_handle.close()\n",
    "    print(\"GB Download\")"
   ]
  },
  {
   "cell_type": "code",
   "execution_count": 17,
   "id": "87ae13b0-8fa6-48ed-894d-f66f1c209531",
   "metadata": {},
   "outputs": [
    {
     "name": "stdout",
     "output_type": "stream",
     "text": [
      "FASTA Download\n"
     ]
    }
   ],
   "source": [
    "import os\n",
    "\n",
    "#creating EFetch handle\n",
    "filename = \"Sansevieria conspicua psbA.fasta\" \n",
    "\n",
    "#creating EFetch handle\n",
    "if not os.path.isfile(filename):\n",
    "    # Downloading file...\n",
    "    efetch_handle = Entrez.efetch(db=\"nuccore\", id=\"1585114130\", rettype=\"fasta\", retmode=\"text\")\n",
    "    output_file_handle = open(filename, \"w\")\n",
    "    output_file_handle.write(efetch_handle.read())\n",
    "    output_file_handle.close()\n",
    "    efetch_handle.close()\n",
    "    print(\"FASTA Download\")"
   ]
  },
  {
   "cell_type": "code",
   "execution_count": 25,
   "id": "0be40d47-9e56-4108-9904-1690d631f3a0",
   "metadata": {},
   "outputs": [
    {
     "name": "stdout",
     "output_type": "stream",
     "text": [
      "GB Download\n"
     ]
    }
   ],
   "source": [
    "#creating EFetch handle\n",
    "filename = \"Sansevieria conspicua complete chloroplast.gbk\" \n",
    "\n",
    "#creating EFetch handle\n",
    "if not os.path.isfile(filename):\n",
    "    # Downloading file...\n",
    "    efetch_handle = Entrez.efetch(db=\"nuccore\", id=\"2127886546\", rettype=\"gb\", retmode=\"text\")\n",
    "    output_file_handle = open(filename, \"w\")\n",
    "    output_file_handle.write(efetch_handle.read())\n",
    "    output_file_handle.close()\n",
    "    efetch_handle.close()\n",
    "    print(\"GB Download\")"
   ]
  },
  {
   "cell_type": "code",
   "execution_count": 28,
   "id": "4a45b60d-1168-4baa-91b2-50eb430464dd",
   "metadata": {},
   "outputs": [],
   "source": [
    "from Bio import SeqIO\n",
    "\n",
    "GoI = \"psbA\" \n",
    "\n",
    "for genome in SeqIO.parse(\"Sansevieria conspicua complete chloroplast.gbk\",\"genbank\"):\n",
    "    for gene in genome.features:\n",
    "        if gene.type != \"CDS\":\n",
    "            continue\n",
    "        if \"gene\" not in gene.qualifiers:\n",
    "            continue\n",
    "        if GoI not in gene.qualifiers[\"gene\"][0]: \n",
    "            continue\n",
    "        gene_seq = gene.extract(genome.seq)\n",
    "\n",
    "GoI_fasta = \">%s|%s\\n%s\" % (GoI, genome.description, gene_seq)\n",
    "with open(\"GoI_fasta.fasta\" , \"w\") as f:\n",
    "    f.write(GoI_fasta)"
   ]
  },
  {
   "cell_type": "code",
   "execution_count": null,
   "id": "3e9872a3-f8d2-4bf5-83b5-a08ad660ccf5",
   "metadata": {},
   "outputs": [],
   "source": []
  }
 ],
 "metadata": {
  "kernelspec": {
   "display_name": "Python 3 (ipykernel)",
   "language": "python",
   "name": "python3"
  },
  "language_info": {
   "codemirror_mode": {
    "name": "ipython",
    "version": 3
   },
   "file_extension": ".py",
   "mimetype": "text/x-python",
   "name": "python",
   "nbconvert_exporter": "python",
   "pygments_lexer": "ipython3",
   "version": "3.9.7"
  }
 },
 "nbformat": 4,
 "nbformat_minor": 5
}
